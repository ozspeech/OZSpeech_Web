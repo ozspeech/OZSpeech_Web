{
 "cells": [
  {
   "cell_type": "code",
   "execution_count": 9,
   "id": "0f04f8a6",
   "metadata": {},
   "outputs": [
    {
     "name": "stdout",
     "output_type": "stream",
     "text": [
      "{'1s_prompt': ['1089-134691-0025.wav', '4446-2275-0012.wav', '7127-75947-0024.wav', '237-134500-0033.wav', '1580-141083-0007.wav', '1995-1836-0013.wav', '1284-1180-0021.wav', '237-134493-0011.wav', '6829-68771-0014.wav', '1284-1180-0025.wav'], '3s_prompt': ['8463-287645-0006.wav', '6829-68771-0025.wav', '7176-92135-0008.wav', '2094-142345-0051.wav', '7127-75946-0009.wav', '6930-76324-0025.wav', '5683-32866-0028.wav', '7127-75947-0001.wav', '7127-75946-0012.wav', '1320-122612-0003.wav'], '5s_prompt': ['6930-76324-0025.wav', '672-122797-0018.wav', '1320-122617-0021.wav', '3729-6852-0039.wav', '1089-134686-0002.wav', '4992-23283-0018.wav', '2830-3980-0062.wav', '6829-68769-0032.wav', '1284-1180-0026.wav', '8455-210777-0023.wav']}\n"
     ]
    }
   ],
   "source": [
    "import os\n",
    "import glob\n",
    "\n",
    "root = \"/Users/nngocson/Documents/OZSpeech_Web/static/audio_samples\"\n",
    "\n",
    "samples = {\"1s_prompt\": [], \"3s_prompt\": [], \"5s_prompt\": []}\n",
    "for folder in os.listdir(root):\n",
    "    wav_paths = glob.glob(os.path.join(root, folder, \"f5/*.wav\"))\n",
    "    filenames = [os.path.basename(path) for path in wav_paths]\n",
    "    samples[folder].extend(filenames)\n",
    "print(samples)"
   ]
  },
  {
   "cell_type": "code",
   "execution_count": 11,
   "id": "8f210813",
   "metadata": {},
   "outputs": [
    {
     "name": "stdout",
     "output_type": "stream",
     "text": [
      "{'1s_prompt': ['1089-134691-0025.wav', '4446-2275-0012.wav', '7127-75947-0024.wav', '237-134500-0033.wav', '1580-141083-0007.wav', '1995-1836-0013.wav', '1284-1180-0021.wav', '237-134493-0011.wav', '6829-68771-0014.wav', '1284-1180-0025.wav'], '3s_prompt': ['8463-287645-0006.wav', '6829-68771-0025.wav', '7176-92135-0008.wav', '2094-142345-0051.wav', '7127-75946-0009.wav', '6930-76324-0025.wav', '5683-32866-0028.wav', '7127-75947-0001.wav', '7127-75946-0012.wav', '1320-122612-0003.wav'], '5s_prompt': ['6930-76324-0025.wav', '672-122797-0018.wav', '1320-122617-0021.wav', '3729-6852-0039.wav', '1089-134686-0002.wav', '4992-23283-0018.wav', '2830-3980-0062.wav', '6829-68769-0032.wav', '1284-1180-0026.wav', '8455-210777-0023.wav']}\n"
     ]
    }
   ],
   "source": [
    "print(samples)"
   ]
  },
  {
   "cell_type": "code",
   "execution_count": null,
   "id": "232fe0d7",
   "metadata": {},
   "outputs": [],
   "source": [
    "{'1s_prompt': ['1089-134691-0025.wav', '4446-2275-0012.wav', '7127-75947-0024.wav', '237-134500-0033.wav', '1580-141083-0007.wav', '1995-1836-0013.wav', '1284-1180-0021.wav', '237-134493-0011.wav', '6829-68771-0014.wav', '1284-1180-0025.wav'], '3s_prompt': ['8463-287645-0006.wav', '6829-68771-0025.wav', '7176-92135-0008.wav', '2094-142345-0051.wav', '7127-75946-0009.wav', '6930-76324-0025.wav', '5683-32866-0028.wav', '7127-75947-0001.wav', '7127-75946-0012.wav', '1320-122612-0003.wav'], '5s_prompt': ['6930-76324-0025.wav', '672-122797-0018.wav', '1320-122617-0021.wav', '3729-6852-0039.wav', '1089-134686-0002.wav', '4992-23283-0018.wav', '2830-3980-0062.wav', '6829-68769-0032.wav', '1284-1180-0026.wav', '8455-210777-0023.wav']}"
   ]
  }
 ],
 "metadata": {
  "kernelspec": {
   "display_name": "zact",
   "language": "python",
   "name": "python3"
  },
  "language_info": {
   "codemirror_mode": {
    "name": "ipython",
    "version": 3
   },
   "file_extension": ".py",
   "mimetype": "text/x-python",
   "name": "python",
   "nbconvert_exporter": "python",
   "pygments_lexer": "ipython3",
   "version": "3.10.13"
  }
 },
 "nbformat": 4,
 "nbformat_minor": 5
}
